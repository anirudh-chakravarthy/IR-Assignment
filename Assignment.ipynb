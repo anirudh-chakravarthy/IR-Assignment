{
  "nbformat": 4,
  "nbformat_minor": 0,
  "metadata": {
    "colab": {
      "name": "Assignment.ipynb",
      "provenance": [],
      "collapsed_sections": [],
      "authorship_tag": "ABX9TyMqJbSti5rS66rXK+xYfFkF",
      "include_colab_link": true
    },
    "kernelspec": {
      "name": "python3",
      "display_name": "Python 3"
    },
    "language_info": {
      "name": "python"
    }
  },
  "cells": [
    {
      "cell_type": "markdown",
      "metadata": {
        "id": "view-in-github",
        "colab_type": "text"
      },
      "source": [
        "<a href=\"https://colab.research.google.com/github/anirudh-chakravarthy/IR-Assignment/blob/main/Assignment.ipynb\" target=\"_parent\"><img src=\"https://colab.research.google.com/assets/colab-badge.svg\" alt=\"Open In Colab\"/></a>"
      ]
    },
    {
      "cell_type": "code",
      "metadata": {
        "id": "cUKX2PnsGhKF"
      },
      "source": [
        "from google.colab import drive\n",
        "drive.mount(\"/content/gdrive\", force_remount=True)"
      ],
      "execution_count": null,
      "outputs": []
    },
    {
      "cell_type": "code",
      "metadata": {
        "id": "ys83Iok4Gn8p"
      },
      "source": [
        "%cd gdrive/MyDrive/Academics/IR-Assignment/"
      ],
      "execution_count": null,
      "outputs": []
    },
    {
      "cell_type": "code",
      "metadata": {
        "id": "Ai_T4z-RG4h7"
      },
      "source": [
        "!pip install torch==1.7.0 torchvision==0.8.0 torchaudio==0.7.0"
      ],
      "execution_count": null,
      "outputs": []
    },
    {
      "cell_type": "code",
      "metadata": {
        "id": "4uTuzLVOHTQs"
      },
      "source": [
        "!pip install torch-scatter -f https://pytorch-geometric.com/whl/torch-1.7.0+cu102.html\n",
        "!pip install torch-sparse -f https://pytorch-geometric.com/whl/torch-1.7.0+cu102.html\n",
        "!pip install torch-cluster -f https://pytorch-geometric.com/whl/torch-1.7.0+cu102.html\n",
        "!pip install torch-spline-conv -f https://pytorch-geometric.com/whl/torch-1.7.0+cu102.html\n",
        "!pip install torch-geometric"
      ],
      "execution_count": null,
      "outputs": []
    },
    {
      "cell_type": "markdown",
      "metadata": {
        "id": "Ttni5t1c6xOG"
      },
      "source": [
        "## References\n",
        "1. https://github.com/KMint1819/SociaMedia/blob/ba2cca9e416461ae9916a0388cccf498b5b3ae57/hw3_gnn/Copy_of_Graph_Neural_Networks.ipynb\n",
        "2. https://github.com/YingtongDou/GCNN\n",
        "3. https://chrsmrrs.github.io/datasets/docs/datasets/"
      ]
    },
    {
      "cell_type": "code",
      "metadata": {
        "id": "aq-DoNbxItpH"
      },
      "source": [
        "import numpy as np\n",
        "import torch\n",
        "import torch.nn as nn\n",
        "import torch.nn.functional as F\n",
        "from torch.nn import Linear\n",
        "from torch.optim import Adam\n",
        "from torch.utils.data import random_split\n",
        "from torch_geometric.data import DataLoader\n",
        "from torch_geometric.datasets import TUDataset\n",
        "from torch_geometric.nn import GATConv, global_mean_pool\n",
        "\n",
        "from sklearn.metrics import f1_score, accuracy_score, recall_score, precision_score\n",
        "import pdb\n",
        "\n",
        "BATCH_SIZE = 128\n",
        "LR = 1e-3\n",
        "NUM_EPOCHS = 1000\n",
        "SEED = 42\n",
        "\n",
        "np.random.seed(SEED)\n",
        "torch.manual_seed(SEED)\n",
        "torch.cuda.manual_seed(SEED)"
      ],
      "execution_count": null,
      "outputs": []
    },
    {
      "cell_type": "code",
      "metadata": {
        "id": "NyyqSAoFIukK"
      },
      "source": [
        "class GeometricNet(nn.Module):\n",
        "  def __init__(self, \n",
        "               conv_in_layers,\n",
        "               conv_out_layers=64,\n",
        "               num_classes=2):\n",
        "    super(GeometricNet, self).__init__()\n",
        "\n",
        "    assert conv_out_layers % 2 == 0, 'Convolution output should have even number of layers'\n",
        "    fc_out_layers = conv_out_layers//2\n",
        "\n",
        "    self.conv1 = GATConv(conv_in_layers, conv_out_layers)\n",
        "    self.conv2 = GATConv(conv_out_layers, conv_out_layers)\n",
        "    self.fc1 = Linear(conv_out_layers, fc_out_layers)\n",
        "    self.fc2 = Linear(fc_out_layers, num_classes)\n",
        "\n",
        "    self.activation = nn.SELU(inplace=True)\n",
        "    # self.softmax = nn.Softmax(dim=-1)\n",
        "\n",
        "  def forward(self, data):\n",
        "    x, edge_index, batch = data.x, data.edge_index, data.batch\n",
        "    if data.num_node_features == 0:\n",
        "      x = torch.ones(data.num_nodes, 1, device=torch.cuda.current_device())\n",
        "\n",
        "    x = self.conv1(x, edge_index)\n",
        "    x = self.activation(x)\n",
        "    x = self.conv2(x, edge_index)\n",
        "    x = self.activation(x)\n",
        "    x = global_mean_pool(x, batch)\n",
        "    x = self.activation(x)\n",
        "    x = self.fc1(x)\n",
        "    x = self.activation(x)\n",
        "    x = self.fc2(x)\n",
        "    # x = self.softmax(x)\n",
        "    # x = F.log_softmax(x, dim=-1)\n",
        "    return x\n",
        "\n",
        "def test(model, loader):\n",
        "  acc, f1, precision, recall = 0., 0., 0., 0.\n",
        "  model.eval()\n",
        "  # correct = 0.\n",
        "\n",
        "  for i, data in enumerate(loader):\n",
        "    y = data.y.cpu().numpy()\n",
        "    data = data.to(torch.cuda.current_device())\n",
        "    pred = model(data)\n",
        "    y_pred = F.softmax(pred, dim=-1).argmax(dim=1).cpu().numpy()\n",
        "    # correct += data.y.eq(y_pred).sum().item()\n",
        "    acc += accuracy_score(y, y_pred)\n",
        "    f1 += f1_score(y, y_pred, average='macro')\n",
        "    precision += precision_score(y, y_pred, zero_division=0)\n",
        "    recall += recall_score(y, y_pred, zero_division=0)\n",
        "\n",
        "  acc /= len(test_loader)\n",
        "  f1 /= len(test_loader)\n",
        "  precision /= len(test_loader)\n",
        "  recall /= len(test_loader)\n",
        "  return acc, f1, precision, recall\n",
        "  # return correct / len(loader)"
      ],
      "execution_count": null,
      "outputs": []
    },
    {
      "cell_type": "code",
      "metadata": {
        "id": "Zqoph5yQKYGa"
      },
      "source": [
        "# dataset = TUDataset(root='data/', name='SYNTHETIC', use_node_attr=True)\n",
        "dataset = TUDataset(root='data/', name='AIDS', use_node_attr=True)\n",
        "# dataset = TUDataset(root='data/', name='PROTEINS', use_node_attr=True)\n",
        "\n",
        "num_training = int(len(dataset) * 0.8)\n",
        "num_test = len(dataset) - num_training\n",
        "training_set, test_set = random_split(dataset, [num_training, num_test], generator=torch.Generator().manual_seed(SEED))\n",
        "\n",
        "train_loader = DataLoader(training_set, batch_size=BATCH_SIZE, shuffle=True)\n",
        "test_loader = DataLoader(test_set, batch_size=BATCH_SIZE, shuffle=False)"
      ],
      "execution_count": null,
      "outputs": []
    },
    {
      "cell_type": "code",
      "metadata": {
        "id": "7ZDXbJfJQbAl"
      },
      "source": [
        "model = GeometricNet(max(dataset.num_node_features, 1), \n",
        "                     num_classes=dataset.num_classes).to(torch.cuda.current_device())\n",
        "optimizer = Adam(model.parameters(), lr=LR)\n",
        "loss_fn = nn.MultiMarginLoss()\n",
        "# loss_fn = nn.CrossEntropyLoss()\n",
        "\n",
        "for epoch in range(NUM_EPOCHS):\n",
        "  model.train()\n",
        "  for i, data in enumerate(train_loader):\n",
        "    data = data.to(torch.cuda.current_device())\n",
        "    pred = model(data)\n",
        "    loss = loss_fn(pred, data.y)\n",
        "    # loss = F.nll_loss(pred, data.y)\n",
        "\n",
        "    optimizer.zero_grad()\n",
        "    loss.backward()\n",
        "    optimizer.step()\n",
        "\n",
        "  if epoch % 10 == 0:\n",
        "    acc, f1, precision, recall = test(model, test_loader)\n",
        "    print(\"Epoch {}. Loss: {:.4f}. Test accuracy: {:.4f}, F1: {:.4f}, Precision: {:.4f}, Recall: {:.4f}\".format(\n",
        "        epoch, loss, acc, f1, precision, recall))"
      ],
      "execution_count": null,
      "outputs": []
    },
    {
      "cell_type": "code",
      "metadata": {
        "id": "ueaRU3HmhZ9C"
      },
      "source": [
        ""
      ],
      "execution_count": null,
      "outputs": []
    }
  ]
}